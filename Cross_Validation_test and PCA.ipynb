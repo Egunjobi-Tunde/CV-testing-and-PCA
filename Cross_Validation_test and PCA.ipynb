{
 "cells": [
  {
   "cell_type": "code",
   "execution_count": 1,
   "id": "7a3dc9fc",
   "metadata": {},
   "outputs": [],
   "source": [
    "import pandas as pd\n",
    "import numpy as np\n",
    "import matplotlib.pyplot as plt\n",
    "import seaborn as sns"
   ]
  },
  {
   "cell_type": "code",
   "execution_count": 2,
   "id": "0fcdb770",
   "metadata": {},
   "outputs": [
    {
     "data": {
      "text/html": [
       "<div>\n",
       "<style scoped>\n",
       "    .dataframe tbody tr th:only-of-type {\n",
       "        vertical-align: middle;\n",
       "    }\n",
       "\n",
       "    .dataframe tbody tr th {\n",
       "        vertical-align: top;\n",
       "    }\n",
       "\n",
       "    .dataframe thead th {\n",
       "        text-align: right;\n",
       "    }\n",
       "</style>\n",
       "<table border=\"1\" class=\"dataframe\">\n",
       "  <thead>\n",
       "    <tr style=\"text-align: right;\">\n",
       "      <th></th>\n",
       "      <th>Age</th>\n",
       "      <th>Married</th>\n",
       "      <th>Number of Dependents</th>\n",
       "      <th>Tenure in Months</th>\n",
       "      <th>Phone Service</th>\n",
       "      <th>Avg Monthly Long Distance Charges</th>\n",
       "      <th>Multiple Lines</th>\n",
       "      <th>Internet Service</th>\n",
       "      <th>Avg Monthly GB Download</th>\n",
       "      <th>Online Security</th>\n",
       "      <th>...</th>\n",
       "      <th>Contract_One Year</th>\n",
       "      <th>Contract_Two Year</th>\n",
       "      <th>Internet Type_Cable</th>\n",
       "      <th>Internet Type_DSL</th>\n",
       "      <th>Internet Type_Fiber Optic</th>\n",
       "      <th>Offer_Offer A</th>\n",
       "      <th>Offer_Offer B</th>\n",
       "      <th>Offer_Offer C</th>\n",
       "      <th>Offer_Offer D</th>\n",
       "      <th>Offer_Offer E</th>\n",
       "    </tr>\n",
       "  </thead>\n",
       "  <tbody>\n",
       "    <tr>\n",
       "      <th>0</th>\n",
       "      <td>37</td>\n",
       "      <td>1</td>\n",
       "      <td>0</td>\n",
       "      <td>9</td>\n",
       "      <td>1</td>\n",
       "      <td>42.39</td>\n",
       "      <td>0</td>\n",
       "      <td>1</td>\n",
       "      <td>16.0</td>\n",
       "      <td>0</td>\n",
       "      <td>...</td>\n",
       "      <td>1</td>\n",
       "      <td>0</td>\n",
       "      <td>1</td>\n",
       "      <td>0</td>\n",
       "      <td>0</td>\n",
       "      <td>0</td>\n",
       "      <td>0</td>\n",
       "      <td>0</td>\n",
       "      <td>0</td>\n",
       "      <td>0</td>\n",
       "    </tr>\n",
       "    <tr>\n",
       "      <th>1</th>\n",
       "      <td>46</td>\n",
       "      <td>0</td>\n",
       "      <td>0</td>\n",
       "      <td>9</td>\n",
       "      <td>1</td>\n",
       "      <td>10.69</td>\n",
       "      <td>1</td>\n",
       "      <td>1</td>\n",
       "      <td>10.0</td>\n",
       "      <td>0</td>\n",
       "      <td>...</td>\n",
       "      <td>0</td>\n",
       "      <td>0</td>\n",
       "      <td>1</td>\n",
       "      <td>0</td>\n",
       "      <td>0</td>\n",
       "      <td>0</td>\n",
       "      <td>0</td>\n",
       "      <td>0</td>\n",
       "      <td>0</td>\n",
       "      <td>0</td>\n",
       "    </tr>\n",
       "    <tr>\n",
       "      <th>2</th>\n",
       "      <td>50</td>\n",
       "      <td>0</td>\n",
       "      <td>0</td>\n",
       "      <td>4</td>\n",
       "      <td>1</td>\n",
       "      <td>33.65</td>\n",
       "      <td>0</td>\n",
       "      <td>1</td>\n",
       "      <td>30.0</td>\n",
       "      <td>0</td>\n",
       "      <td>...</td>\n",
       "      <td>0</td>\n",
       "      <td>0</td>\n",
       "      <td>0</td>\n",
       "      <td>0</td>\n",
       "      <td>1</td>\n",
       "      <td>0</td>\n",
       "      <td>0</td>\n",
       "      <td>0</td>\n",
       "      <td>0</td>\n",
       "      <td>1</td>\n",
       "    </tr>\n",
       "    <tr>\n",
       "      <th>3</th>\n",
       "      <td>78</td>\n",
       "      <td>1</td>\n",
       "      <td>0</td>\n",
       "      <td>13</td>\n",
       "      <td>1</td>\n",
       "      <td>27.82</td>\n",
       "      <td>0</td>\n",
       "      <td>1</td>\n",
       "      <td>4.0</td>\n",
       "      <td>0</td>\n",
       "      <td>...</td>\n",
       "      <td>0</td>\n",
       "      <td>0</td>\n",
       "      <td>0</td>\n",
       "      <td>0</td>\n",
       "      <td>1</td>\n",
       "      <td>0</td>\n",
       "      <td>0</td>\n",
       "      <td>0</td>\n",
       "      <td>1</td>\n",
       "      <td>0</td>\n",
       "    </tr>\n",
       "    <tr>\n",
       "      <th>4</th>\n",
       "      <td>75</td>\n",
       "      <td>1</td>\n",
       "      <td>0</td>\n",
       "      <td>3</td>\n",
       "      <td>1</td>\n",
       "      <td>7.38</td>\n",
       "      <td>0</td>\n",
       "      <td>1</td>\n",
       "      <td>11.0</td>\n",
       "      <td>0</td>\n",
       "      <td>...</td>\n",
       "      <td>0</td>\n",
       "      <td>0</td>\n",
       "      <td>0</td>\n",
       "      <td>0</td>\n",
       "      <td>1</td>\n",
       "      <td>0</td>\n",
       "      <td>0</td>\n",
       "      <td>0</td>\n",
       "      <td>0</td>\n",
       "      <td>0</td>\n",
       "    </tr>\n",
       "  </tbody>\n",
       "</table>\n",
       "<p>5 rows × 38 columns</p>\n",
       "</div>"
      ],
      "text/plain": [
       "   Age  Married  Number of Dependents  Tenure in Months  Phone Service  \\\n",
       "0   37        1                     0                 9              1   \n",
       "1   46        0                     0                 9              1   \n",
       "2   50        0                     0                 4              1   \n",
       "3   78        1                     0                13              1   \n",
       "4   75        1                     0                 3              1   \n",
       "\n",
       "   Avg Monthly Long Distance Charges  Multiple Lines  Internet Service  \\\n",
       "0                              42.39               0                 1   \n",
       "1                              10.69               1                 1   \n",
       "2                              33.65               0                 1   \n",
       "3                              27.82               0                 1   \n",
       "4                               7.38               0                 1   \n",
       "\n",
       "   Avg Monthly GB Download  Online Security  ...  Contract_One Year  \\\n",
       "0                     16.0                0  ...                  1   \n",
       "1                     10.0                0  ...                  0   \n",
       "2                     30.0                0  ...                  0   \n",
       "3                      4.0                0  ...                  0   \n",
       "4                     11.0                0  ...                  0   \n",
       "\n",
       "   Contract_Two Year  Internet Type_Cable  Internet Type_DSL  \\\n",
       "0                  0                    1                  0   \n",
       "1                  0                    1                  0   \n",
       "2                  0                    0                  0   \n",
       "3                  0                    0                  0   \n",
       "4                  0                    0                  0   \n",
       "\n",
       "   Internet Type_Fiber Optic  Offer_Offer A  Offer_Offer B  Offer_Offer C  \\\n",
       "0                          0              0              0              0   \n",
       "1                          0              0              0              0   \n",
       "2                          1              0              0              0   \n",
       "3                          1              0              0              0   \n",
       "4                          1              0              0              0   \n",
       "\n",
       "   Offer_Offer D  Offer_Offer E  \n",
       "0              0              0  \n",
       "1              0              0  \n",
       "2              0              1  \n",
       "3              1              0  \n",
       "4              0              0  \n",
       "\n",
       "[5 rows x 38 columns]"
      ]
     },
     "execution_count": 2,
     "metadata": {},
     "output_type": "execute_result"
    }
   ],
   "source": [
    "data = pd.read_csv(\"Telecom_Data.csv\")\n",
    "data.head()"
   ]
  },
  {
   "cell_type": "code",
   "execution_count": 3,
   "id": "8bdb1bb9",
   "metadata": {},
   "outputs": [],
   "source": [
    "from sklearn.model_selection import GridSearchCV,cross_val_score,RandomizedSearchCV\n",
    "from sklearn.svm import SVC\n",
    "from sklearn.neighbors import KNeighborsClassifier\n",
    "from sklearn.preprocessing import MinMaxScaler\n",
    "from sklearn.model_selection import train_test_split\n",
    "from sklearn.linear_model import LogisticRegression\n",
    "from sklearn.tree import DecisionTreeClassifier\n",
    "from sklearn.metrics import accuracy_score, classification_report, confusion_matrix\n",
    "from sklearn.ensemble import RandomForestClassifier\n",
    "from sklearn.neighbors import KNeighborsClassifier\n",
    "import warnings\n",
    "warnings.filterwarnings('ignore')"
   ]
  },
  {
   "cell_type": "code",
   "execution_count": 4,
   "id": "9a07aec2",
   "metadata": {},
   "outputs": [
    {
     "data": {
      "text/plain": [
       "(5000, 38)"
      ]
     },
     "execution_count": 4,
     "metadata": {},
     "output_type": "execute_result"
    }
   ],
   "source": [
    "data.shape"
   ]
  },
  {
   "cell_type": "code",
   "execution_count": 5,
   "id": "04210e86",
   "metadata": {},
   "outputs": [
    {
     "data": {
      "text/plain": [
       "1    3647\n",
       "0    1353\n",
       "Name: Customer Status_Stayed, dtype: int64"
      ]
     },
     "execution_count": 5,
     "metadata": {},
     "output_type": "execute_result"
    }
   ],
   "source": [
    "(data['Customer Status_Stayed']).value_counts()"
   ]
  },
  {
   "cell_type": "code",
   "execution_count": 6,
   "id": "cf3c24d1",
   "metadata": {},
   "outputs": [],
   "source": [
    "X= data.drop(\"Customer Status_Stayed\",1)\n",
    "y = data['Customer Status_Stayed']"
   ]
  },
  {
   "cell_type": "markdown",
   "id": "7c7d071e",
   "metadata": {},
   "source": [
    "# Should I Scale my data before using Cross_validation_score?\n",
    "\n",
    "### This notebook shows the difference between the Scaled data and the actual data on cross_val_score\n",
    "\n",
    "##### What is the purpose of cross-validation in machine learning?\n",
    "Cross-validation is a technique for evaluating ML models by training several ML models on subsets of the available input data and evaluating them on the complementary subset of the data."
   ]
  },
  {
   "cell_type": "markdown",
   "id": "33436437",
   "metadata": {},
   "source": [
    "# Actual Data"
   ]
  },
  {
   "cell_type": "code",
   "execution_count": 7,
   "id": "3b160f23",
   "metadata": {},
   "outputs": [],
   "source": [
    "log = (cross_val_score(LogisticRegression(max_iter =1000),X,y,cv =5)).mean()"
   ]
  },
  {
   "cell_type": "code",
   "execution_count": 8,
   "id": "ea787c43",
   "metadata": {},
   "outputs": [],
   "source": [
    "svc = cross_val_score(SVC(),X,y,cv =5).mean()"
   ]
  },
  {
   "cell_type": "code",
   "execution_count": 9,
   "id": "64318cdf",
   "metadata": {},
   "outputs": [],
   "source": [
    "#SVC().get_key()"
   ]
  },
  {
   "cell_type": "code",
   "execution_count": 10,
   "id": "85ca688a",
   "metadata": {},
   "outputs": [],
   "source": [
    "dtc = cross_val_score(DecisionTreeClassifier(),X,y,cv =5).mean()"
   ]
  },
  {
   "cell_type": "code",
   "execution_count": 11,
   "id": "a8b53b55",
   "metadata": {},
   "outputs": [],
   "source": [
    "rfc = cross_val_score(RandomForestClassifier(n_estimators = 10),X,y,cv =5).mean()"
   ]
  },
  {
   "cell_type": "code",
   "execution_count": 12,
   "id": "f880001d",
   "metadata": {},
   "outputs": [],
   "source": [
    "knn = cross_val_score(KNeighborsClassifier(),X,y,cv =5).mean()"
   ]
  },
  {
   "cell_type": "code",
   "execution_count": 13,
   "id": "ade97500",
   "metadata": {},
   "outputs": [],
   "source": [
    "scale = MinMaxScaler()\n",
    "X_scale = scale.fit_transform(X)"
   ]
  },
  {
   "cell_type": "markdown",
   "id": "ad154ccf",
   "metadata": {},
   "source": [
    "# Scaled data"
   ]
  },
  {
   "cell_type": "code",
   "execution_count": 14,
   "id": "79cec637",
   "metadata": {},
   "outputs": [],
   "source": [
    "logScale =(cross_val_score(LogisticRegression(max_iter =1000),X_scale,y,cv =5)).mean()"
   ]
  },
  {
   "cell_type": "code",
   "execution_count": 15,
   "id": "663c0a2d",
   "metadata": {},
   "outputs": [],
   "source": [
    "svc_scale = cross_val_score(SVC(),X_scale,y,cv =5).mean()"
   ]
  },
  {
   "cell_type": "code",
   "execution_count": 16,
   "id": "07f33b54",
   "metadata": {},
   "outputs": [],
   "source": [
    "knn_scale = cross_val_score(KNeighborsClassifier(),X_scale,y,cv =5).mean()"
   ]
  },
  {
   "cell_type": "code",
   "execution_count": 17,
   "id": "81c318e8",
   "metadata": {},
   "outputs": [],
   "source": [
    "rfc_scale = cross_val_score(RandomForestClassifier(n_estimators = 10),X_scale,y,cv =5).mean()"
   ]
  },
  {
   "cell_type": "code",
   "execution_count": 18,
   "id": "b6adba93",
   "metadata": {},
   "outputs": [],
   "source": [
    "dtc_scale = cross_val_score(DecisionTreeClassifier(),X,y,cv =5).mean()"
   ]
  },
  {
   "cell_type": "code",
   "execution_count": 19,
   "id": "70f2764b",
   "metadata": {},
   "outputs": [],
   "source": [
    "score = log,svc,dtc,rfc,knn\n",
    "score2 =logScale,svc_scale,dtc_scale,rfc_scale,knn_scale"
   ]
  },
  {
   "cell_type": "code",
   "execution_count": 20,
   "id": "d0fd741d",
   "metadata": {},
   "outputs": [
    {
     "data": {
      "text/html": [
       "<div>\n",
       "<style scoped>\n",
       "    .dataframe tbody tr th:only-of-type {\n",
       "        vertical-align: middle;\n",
       "    }\n",
       "\n",
       "    .dataframe tbody tr th {\n",
       "        vertical-align: top;\n",
       "    }\n",
       "\n",
       "    .dataframe thead th {\n",
       "        text-align: right;\n",
       "    }\n",
       "</style>\n",
       "<table border=\"1\" class=\"dataframe\">\n",
       "  <thead>\n",
       "    <tr style=\"text-align: right;\">\n",
       "      <th></th>\n",
       "      <th>data</th>\n",
       "      <th>Scale_data</th>\n",
       "    </tr>\n",
       "    <tr>\n",
       "      <th>name</th>\n",
       "      <th></th>\n",
       "      <th></th>\n",
       "    </tr>\n",
       "  </thead>\n",
       "  <tbody>\n",
       "    <tr>\n",
       "      <th>LogisticRegression</th>\n",
       "      <td>0.8148</td>\n",
       "      <td>0.8206</td>\n",
       "    </tr>\n",
       "    <tr>\n",
       "      <th>SVC</th>\n",
       "      <td>0.7294</td>\n",
       "      <td>0.8160</td>\n",
       "    </tr>\n",
       "    <tr>\n",
       "      <th>DecisionTree</th>\n",
       "      <td>0.7474</td>\n",
       "      <td>0.7522</td>\n",
       "    </tr>\n",
       "    <tr>\n",
       "      <th>RandomFores</th>\n",
       "      <td>0.7950</td>\n",
       "      <td>0.7908</td>\n",
       "    </tr>\n",
       "    <tr>\n",
       "      <th>KNN</th>\n",
       "      <td>0.7448</td>\n",
       "      <td>0.7722</td>\n",
       "    </tr>\n",
       "  </tbody>\n",
       "</table>\n",
       "</div>"
      ],
      "text/plain": [
       "                      data  Scale_data\n",
       "name                                  \n",
       "LogisticRegression  0.8148      0.8206\n",
       "SVC                 0.7294      0.8160\n",
       "DecisionTree        0.7474      0.7522\n",
       "RandomFores         0.7950      0.7908\n",
       "KNN                 0.7448      0.7722"
      ]
     },
     "execution_count": 20,
     "metadata": {},
     "output_type": "execute_result"
    }
   ],
   "source": [
    "model = { 'data': score, 'Scale_data': score2, 'name':['LogisticRegression','SVC','DecisionTree','RandomFores','KNN']}\n",
    "pd.DataFrame(model).set_index('name')"
   ]
  },
  {
   "cell_type": "markdown",
   "id": "ab02d46a",
   "metadata": {},
   "source": [
    "# Conclusion \n",
    "\n",
    "### As shown above Scaling the data increased the accuracy of some model a little bit.\n",
    "### scaling before applying cross_val_score is not that necessary."
   ]
  },
  {
   "cell_type": "code",
   "execution_count": null,
   "id": "323d9a1d",
   "metadata": {},
   "outputs": [],
   "source": []
  },
  {
   "cell_type": "code",
   "execution_count": null,
   "id": "2e384fd7",
   "metadata": {},
   "outputs": [],
   "source": []
  },
  {
   "cell_type": "markdown",
   "id": "57c7c158",
   "metadata": {},
   "source": [
    "# LOGISTIC REGRESSION"
   ]
  },
  {
   "cell_type": "code",
   "execution_count": 21,
   "id": "982a7f54",
   "metadata": {},
   "outputs": [],
   "source": [
    "X_train,X_test,y_train,y_test = train_test_split(X_scale,y,test_size =0.3,random_state =0)"
   ]
  },
  {
   "cell_type": "code",
   "execution_count": 22,
   "id": "261f02bb",
   "metadata": {},
   "outputs": [
    {
     "name": "stdout",
     "output_type": "stream",
     "text": [
      "Accuracy Score =  0.8253333333333334\n"
     ]
    }
   ],
   "source": [
    "logmodel = LogisticRegression()\n",
    "logmodel = logmodel.fit(X_train,y_train)\n",
    "acc =logmodel.score(X_test,y_test)\n",
    "print('Accuracy Score = ', acc)"
   ]
  },
  {
   "cell_type": "code",
   "execution_count": null,
   "id": "37e5a5b3",
   "metadata": {},
   "outputs": [],
   "source": []
  },
  {
   "cell_type": "code",
   "execution_count": null,
   "id": "2034d15b",
   "metadata": {},
   "outputs": [],
   "source": []
  },
  {
   "cell_type": "markdown",
   "id": "39c6ba23",
   "metadata": {},
   "source": [
    "# PCA.   Principal Component Analysis"
   ]
  },
  {
   "cell_type": "markdown",
   "id": "3d4e237b",
   "metadata": {},
   "source": [
    "Principal Component Analysis (PCA) is an unsupervised,statistical technique primarily used for dimensionality reduction in machine learning.\n",
    "#### Major Advantage     \n",
    "dimensionality reduction, information compression, data de-noising\n",
    "\n",
    "### cons\n",
    "it sometimes reduces the accuracy of a model when all features contribute to the outcome"
   ]
  },
  {
   "cell_type": "code",
   "execution_count": 23,
   "id": "b9cfd1d7",
   "metadata": {},
   "outputs": [
    {
     "data": {
      "text/plain": [
       "array([[-2.68807308e+03,  1.07510571e+02,  2.69057322e+00, ...,\n",
       "         3.97228572e-01, -2.02082579e-01, -4.69897539e-02],\n",
       "       [-3.05093521e+03, -1.83886976e+02, -2.23024049e+01, ...,\n",
       "         2.28564315e-01, -6.99101492e-01, -1.50429266e-01],\n",
       "       [-3.35396062e+03, -6.01829115e+01,  7.98955834e+00, ...,\n",
       "        -4.02975331e-01, -1.08034759e-01,  2.91507601e-01],\n",
       "       ...,\n",
       "       [-3.59697615e+03, -1.29124727e+02,  1.09690549e+01, ...,\n",
       "         4.13343825e-01,  1.26956441e-01, -3.61468489e-02],\n",
       "       [ 3.04441784e+03,  7.30513809e+02, -1.72173585e+00, ...,\n",
       "        -9.16237486e-02, -1.95324697e-02,  6.36029843e-01],\n",
       "       [ 5.97122917e+02, -2.00023025e+02, -1.45300210e+01, ...,\n",
       "        -4.50066677e-01, -1.19769789e-01, -1.01770195e-02]])"
      ]
     },
     "execution_count": 23,
     "metadata": {},
     "output_type": "execute_result"
    }
   ],
   "source": [
    "from sklearn.decomposition import PCA\n",
    "\n",
    "pca = PCA(25)\n",
    "X_pca =pca.fit_transform(X)\n",
    "X_pca"
   ]
  },
  {
   "cell_type": "code",
   "execution_count": 24,
   "id": "2eaa8e11",
   "metadata": {},
   "outputs": [
    {
     "data": {
      "text/plain": [
       "(5000, 25)"
      ]
     },
     "execution_count": 24,
     "metadata": {},
     "output_type": "execute_result"
    }
   ],
   "source": [
    "X_pca.shape"
   ]
  },
  {
   "cell_type": "markdown",
   "id": "115726a7",
   "metadata": {},
   "source": [
    "### Using PCA I have reduced the features to 20."
   ]
  },
  {
   "cell_type": "code",
   "execution_count": 25,
   "id": "5f3300d4",
   "metadata": {},
   "outputs": [
    {
     "data": {
      "text/plain": [
       "array([9.63722883e-01, 3.61066025e-02, 5.91811074e-05, 4.98775623e-05,\n",
       "       3.17952384e-05, 1.14819509e-05, 8.47739254e-06, 5.01266965e-06,\n",
       "       4.38727366e-06, 6.30453086e-08, 2.66311155e-08, 2.00484562e-08,\n",
       "       1.77347149e-08, 1.71476627e-08, 1.60425428e-08, 1.43885808e-08,\n",
       "       1.31639372e-08, 1.21206088e-08, 1.10780813e-08, 1.06446825e-08,\n",
       "       1.01443548e-08, 9.55796260e-09, 8.68569275e-09, 8.03995019e-09,\n",
       "       6.97598777e-09])"
      ]
     },
     "execution_count": 25,
     "metadata": {},
     "output_type": "execute_result"
    }
   ],
   "source": [
    "pca.explained_variance_ratio_"
   ]
  },
  {
   "cell_type": "markdown",
   "id": "3a2913a4",
   "metadata": {},
   "source": [
    "## using the pca features to build a model"
   ]
  },
  {
   "cell_type": "code",
   "execution_count": 26,
   "id": "a585bde6",
   "metadata": {},
   "outputs": [],
   "source": [
    "X_train,X_test,y_train,y_test = train_test_split(X_pca,y,test_size =0.3,random_state =0)"
   ]
  },
  {
   "cell_type": "code",
   "execution_count": 27,
   "id": "0fc7c59e",
   "metadata": {},
   "outputs": [
    {
     "name": "stdout",
     "output_type": "stream",
     "text": [
      " PCA Accuracy Score =  0.776\n"
     ]
    }
   ],
   "source": [
    "model = LogisticRegression()\n",
    "model = model.fit(X_train,y_train)\n",
    "acc = model.score(X_test,y_test)\n",
    "print(' PCA Accuracy Score = ', acc)"
   ]
  },
  {
   "cell_type": "markdown",
   "id": "23c0cc5c",
   "metadata": {},
   "source": [
    "# Conclusion \n",
    "\n",
    "After applying PCA the dimention of the data reduces and the computation was fast but it leads to reduction in accuracy value"
   ]
  },
  {
   "cell_type": "code",
   "execution_count": null,
   "id": "2de88e70",
   "metadata": {},
   "outputs": [],
   "source": []
  }
 ],
 "metadata": {
  "kernelspec": {
   "display_name": "Python 3",
   "language": "python",
   "name": "python3"
  },
  "language_info": {
   "codemirror_mode": {
    "name": "ipython",
    "version": 3
   },
   "file_extension": ".py",
   "mimetype": "text/x-python",
   "name": "python",
   "nbconvert_exporter": "python",
   "pygments_lexer": "ipython3",
   "version": "3.8.8"
  }
 },
 "nbformat": 4,
 "nbformat_minor": 5
}
